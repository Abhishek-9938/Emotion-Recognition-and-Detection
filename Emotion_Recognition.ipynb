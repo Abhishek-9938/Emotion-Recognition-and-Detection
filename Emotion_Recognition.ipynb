{
  "nbformat": 4,
  "nbformat_minor": 0,
  "metadata": {
    "colab": {
      "provenance": [],
      "gpuType": "T4",
      "mount_file_id": "1IkGP4qpKzDy9QTWamS_6kduyL-q44ywt",
      "authorship_tag": "ABX9TyOvy2nLIZ/Mw4QnSmAatYiX",
      "include_colab_link": true
    },
    "kernelspec": {
      "name": "python3",
      "display_name": "Python 3"
    },
    "language_info": {
      "name": "python"
    },
    "accelerator": "GPU"
  },
  "cells": [
    {
      "cell_type": "markdown",
      "metadata": {
        "id": "view-in-github",
        "colab_type": "text"
      },
      "source": [
        "<a href=\"https://colab.research.google.com/github/Abhishek-9938/Emotion-Recognition-and-Detection/blob/main/Emotion_Recognition.ipynb\" target=\"_parent\"><img src=\"https://colab.research.google.com/assets/colab-badge.svg\" alt=\"Open In Colab\"/></a>"
      ]
    },
    {
      "cell_type": "markdown",
      "source": [
        "# Importing the Helper Function"
      ],
      "metadata": {
        "id": "fvRr35jYWmlR"
      }
    },
    {
      "cell_type": "code",
      "source": [
        "!wget https://raw.githubusercontent.com/mrdbourke/tensorflow-deep-learning/main/extras/helper_functions.py"
      ],
      "metadata": {
        "colab": {
          "base_uri": "https://localhost:8080/"
        },
        "id": "tQbFAQg_aeUF",
        "outputId": "11c2dd9a-9695-4783-be8a-c2436152df9d"
      },
      "execution_count": null,
      "outputs": [
        {
          "output_type": "stream",
          "name": "stdout",
          "text": [
            "--2023-09-22 11:42:20--  https://raw.githubusercontent.com/mrdbourke/tensorflow-deep-learning/main/extras/helper_functions.py\n",
            "Resolving raw.githubusercontent.com (raw.githubusercontent.com)... 185.199.109.133, 185.199.108.133, 185.199.110.133, ...\n",
            "Connecting to raw.githubusercontent.com (raw.githubusercontent.com)|185.199.109.133|:443... connected.\n",
            "HTTP request sent, awaiting response... 200 OK\n",
            "Length: 10246 (10K) [text/plain]\n",
            "Saving to: ‘helper_functions.py’\n",
            "\n",
            "\rhelper_functions.py   0%[                    ]       0  --.-KB/s               \rhelper_functions.py 100%[===================>]  10.01K  --.-KB/s    in 0s      \n",
            "\n",
            "2023-09-22 11:42:20 (113 MB/s) - ‘helper_functions.py’ saved [10246/10246]\n",
            "\n"
          ]
        }
      ]
    },
    {
      "cell_type": "code",
      "source": [
        "import tensorflow as tf\n",
        "from tensorflow.keras import layers\n",
        "from tensorflow.keras.layers import Dense\n",
        "from  tensorflow.keras.preprocessing.image import ImageDataGenerator\n",
        "from helper_functions import load_and_prep_image,create_tensorboard_callback,unzip_data\n",
        "from keras.layers import Dense,Input,Dropout,GlobalAveragePooling2D,Flatten,Conv2D,BatchNormalization,Activation,MaxPooling2D\n",
        "from keras.models import Model,Sequential"
      ],
      "metadata": {
        "id": "MfNzaymjajEu"
      },
      "execution_count": null,
      "outputs": []
    },
    {
      "cell_type": "markdown",
      "source": [
        "# Unzipping the Data"
      ],
      "metadata": {
        "id": "HH8wumWjbTpr"
      }
    },
    {
      "cell_type": "code",
      "source": [
        "unzip_data(\"/content/drive/MyDrive/archive.zip\")\n"
      ],
      "metadata": {
        "id": "M4puEp24eqgJ"
      },
      "execution_count": null,
      "outputs": []
    },
    {
      "cell_type": "markdown",
      "source": [
        "#Preprocessing the train data"
      ],
      "metadata": {
        "id": "yWfVlbGhe0Kd"
      }
    },
    {
      "cell_type": "code",
      "source": [
        "train_data_gen=ImageDataGenerator(rescale=1/255.,\n",
        "                                  rotation_range=0.2,\n",
        "                                  width_shift_range=0.2,\n",
        "                                  height_shift_range=0.2,\n",
        "                                  zoom_range=0.2,\n",
        "                                  horizontal_flip=True,\n",
        "                                  vertical_flip=True)\n",
        "val_data_gen=ImageDataGenerator(rescale=1/255.)"
      ],
      "metadata": {
        "id": "tKckO-y7fgnG"
      },
      "execution_count": null,
      "outputs": []
    },
    {
      "cell_type": "code",
      "source": [
        "train_dir=\"/content/train\"\n",
        "test_dir=\"/content/test\""
      ],
      "metadata": {
        "id": "rRi_dpDOfAwA"
      },
      "execution_count": null,
      "outputs": []
    },
    {
      "cell_type": "code",
      "source": [
        "train_data=train_data_gen.flow_from_directory(train_dir,\n",
        "                                              target_size=(48,48),\n",
        "\n",
        "                                              batch_size=32,\n",
        "                                              seed=42)\n",
        "val_data=val_data_gen.flow_from_directory(test_dir,\n",
        "                                          target_size=(48,48),\n",
        "\n",
        "                                          batch_size=32,\n",
        "                                          shuffle=False)"
      ],
      "metadata": {
        "colab": {
          "base_uri": "https://localhost:8080/"
        },
        "id": "X_ttNbVKg8xC",
        "outputId": "c55ce808-1764-48fc-a553-c0955efc8ea2"
      },
      "execution_count": null,
      "outputs": [
        {
          "output_type": "stream",
          "name": "stdout",
          "text": [
            "Found 28709 images belonging to 7 classes.\n",
            "Found 7178 images belonging to 7 classes.\n"
          ]
        }
      ]
    },
    {
      "cell_type": "code",
      "source": [
        "class_names=[\"Angry\",\"Disquist\",\"Fear\",\"Happy\",\"Neutral\",\"Sad\",\"Surprise\"]"
      ],
      "metadata": {
        "id": "ieOkgfQRq5n-"
      },
      "execution_count": null,
      "outputs": []
    },
    {
      "cell_type": "code",
      "source": [
        "import numpy as np\n",
        "import matplotlib.pyplot as plt"
      ],
      "metadata": {
        "id": "jiB98i_gaYY-"
      },
      "execution_count": null,
      "outputs": []
    },
    {
      "cell_type": "markdown",
      "source": [
        "# Building our model"
      ],
      "metadata": {
        "id": "eCztPdeRi5Qv"
      }
    },
    {
      "cell_type": "code",
      "source": [
        "model2=tf.keras.Sequential([\n",
        "    layers.Conv2D(\n",
        "            filters=64,\n",
        "            kernel_size=(5,5),\n",
        "            input_shape=(48,48,1),\n",
        "            activation='elu',\n",
        "            padding='same',\n",
        "            kernel_initializer='he_normal',\n",
        "            name='conv2d_1'\n",
        "    ),\n",
        "    layers.BatchNormalization(name='batchnorm_1'),\n",
        "\n",
        "    layers.Conv2D(\n",
        "            filters=64,\n",
        "            kernel_size=(5,5),\n",
        "            activation='elu',\n",
        "            padding='same',\n",
        "            kernel_initializer='he_normal',\n",
        "            name='conv2d_2'\n",
        "    ),\n",
        "    layers.BatchNormalization(name='batchnorm_2'),\n",
        "    layers.MaxPool2D(pool_size=(2,2), name='maxpool2d_1'),\n",
        "    layers.Dropout(0.4, name='dropout_1'),\n",
        "\n",
        "    layers.Conv2D(\n",
        "            filters=128,\n",
        "            kernel_size=(3,3),\n",
        "            activation='elu',\n",
        "            padding='same',\n",
        "            kernel_initializer='he_normal',\n",
        "            name='conv2d_3'\n",
        "    ),\n",
        "    layers.BatchNormalization(name='batchnorm_3'),\n",
        "\n",
        "    layers.Conv2D(\n",
        "            filters=128,\n",
        "            kernel_size=(3,3),\n",
        "            activation='elu',\n",
        "            padding='same',\n",
        "            kernel_initializer='he_normal',\n",
        "            name='conv2d_4'\n",
        "    ),\n",
        "    layers.BatchNormalization(name='batchnorm_4'),\n",
        "    layers.MaxPooling2D(pool_size=(2,2), name='maxpool2d_2'),\n",
        "    layers.Dropout(0.4, name='dropout_2'),\n",
        "\n",
        "    layers.Conv2D(\n",
        "            filters=256,\n",
        "            kernel_size=(3,3),\n",
        "            activation='elu',\n",
        "            padding='same',\n",
        "            kernel_initializer='he_normal',\n",
        "            name='conv2d_5'\n",
        "        ),\n",
        "    layers.BatchNormalization(name='batchnorm_5'),\n",
        "\n",
        "    layers.Conv2D(\n",
        "            filters=256,\n",
        "            kernel_size=(3,3),\n",
        "            activation='elu',\n",
        "            padding='same',\n",
        "            kernel_initializer='he_normal',\n",
        "            name='conv2d_6'\n",
        "        ),\n",
        "    layers.BatchNormalization(name='batchnorm_6'),\n",
        "    layers.MaxPooling2D(pool_size=(2,2), name='maxpool2d_3'),\n",
        "    layers.Dropout(0.5, name='dropout_3'),\n",
        "    layers.Flatten(name='flatten'),\n",
        "\n",
        "    Dense(\n",
        "            128,\n",
        "            activation='elu',\n",
        "            kernel_initializer='he_normal',\n",
        "            name='dense_1'\n",
        "         ),\n",
        "    layers.BatchNormalization(name='batchnorm_7'),\n",
        "    layers.Dropout(0.6, name='dropout_4'),\n",
        "    Dense(\n",
        "            len(class_names),\n",
        "            activation='softmax',\n",
        "            name='out_layer'\n",
        "         )\n",
        "])\n",
        "\n"
      ],
      "metadata": {
        "id": "WPPR867MmHNP"
      },
      "execution_count": null,
      "outputs": []
    },
    {
      "cell_type": "code",
      "source": [
        "\n",
        "model.compile(loss=\"categorical_crossentropy\",\n",
        "               optimizer=tf.keras.optimizers.Adam(),\n",
        "               metrics=[\"accuracy\"])"
      ],
      "metadata": {
        "id": "7t-YE74Vi91q"
      },
      "execution_count": null,
      "outputs": []
    },
    {
      "cell_type": "code",
      "source": [
        "model.summary()\n"
      ],
      "metadata": {
        "colab": {
          "base_uri": "https://localhost:8080/"
        },
        "id": "C04mdioamS65",
        "outputId": "d50ba478-826c-4c7f-ad31-3a859b05b9bd"
      },
      "execution_count": null,
      "outputs": [
        {
          "output_type": "stream",
          "name": "stdout",
          "text": [
            "Model: \"model_1\"\n",
            "_________________________________________________________________\n",
            " Layer (type)                Output Shape              Param #   \n",
            "=================================================================\n",
            " input_layer (InputLayer)    [(None, 48, 48, 3)]       0         \n",
            "                                                                 \n",
            " vgg19 (Functional)          (None, None, None, 512)   20024384  \n",
            "                                                                 \n",
            " pooling_layer (GlobalAvera  (None, 512)               0         \n",
            " gePooling2D)                                                    \n",
            "                                                                 \n",
            " dense_1 (Dense)             (None, 7)                 3591      \n",
            "                                                                 \n",
            " softmax_float32 (Activatio  (None, 7)                 0         \n",
            " n)                                                              \n",
            "                                                                 \n",
            "=================================================================\n",
            "Total params: 20027975 (76.40 MB)\n",
            "Trainable params: 20027975 (76.40 MB)\n",
            "Non-trainable params: 0 (0.00 Byte)\n",
            "_________________________________________________________________\n"
          ]
        }
      ]
    },
    {
      "cell_type": "markdown",
      "source": [
        "# Adding Model Checkpoint Callback and Early stopping callback"
      ],
      "metadata": {
        "id": "HhYvGjQ1V3IO"
      }
    },
    {
      "cell_type": "code",
      "source": [
        "\n",
        "## having early stopping and model check point\n",
        "\n",
        "from keras.callbacks import ModelCheckpoint, EarlyStopping,ReduceLROnPlateau\n",
        "\n",
        "# early stopping\n",
        "es = EarlyStopping(monitor='val_accuracy', min_delta= 0.00005 , patience= 11, verbose= 0, mode='auto')\n",
        "\n",
        "# model check point\n",
        "mc = ModelCheckpoint(filepath=\"best5_model.h5\", monitor= 'val_accuracy', verbose= 0, save_best_only= True, mode = 'auto')\n",
        "\n",
        "sch = ReduceLROnPlateau(\n",
        "    monitor='val_accuracy',\n",
        "    factor=0.5,\n",
        "    patience=7,\n",
        "    min_lr=1e-7,\n",
        "    verbose=1,\n",
        ")\n",
        "\n",
        "# puting call back in a list\n",
        "call_back = [es, mc]"
      ],
      "metadata": {
        "id": "f3NHYLO8V_yY"
      },
      "execution_count": null,
      "outputs": []
    },
    {
      "cell_type": "code",
      "source": [
        "train_data.batch_size\n",
        "\n"
      ],
      "metadata": {
        "colab": {
          "base_uri": "https://localhost:8080/"
        },
        "id": "r6gdrHfJuBcM",
        "outputId": "9451d61d-9081-4944-92be-e0ec96577138"
      },
      "execution_count": null,
      "outputs": [
        {
          "output_type": "execute_result",
          "data": {
            "text/plain": [
              "32"
            ]
          },
          "metadata": {},
          "execution_count": 13
        }
      ]
    },
    {
      "cell_type": "code",
      "source": [
        "\n",
        "history=model.fit(train_data,\n",
        "                   epochs=25,\n",
        "                   steps_per_epoch=len(train_data),\n",
        "                   validation_data=val_data,\n",
        "                   callbacks=[es,mc,sch],\n",
        "                   use_multiprocessing=True)"
      ],
      "metadata": {
        "colab": {
          "base_uri": "https://localhost:8080/"
        },
        "id": "w3PBmu87mWqp",
        "outputId": "6157d1c3-0e14-4854-b3ad-30a227e29739"
      },
      "execution_count": null,
      "outputs": [
        {
          "output_type": "stream",
          "name": "stdout",
          "text": [
            "Epoch 1/25\n",
            "898/898 [==============================] - 102s 104ms/step - loss: 1.8398 - accuracy: 0.2456 - val_loss: 1.8197 - val_accuracy: 0.2471 - lr: 0.0010\n",
            "Epoch 2/25\n",
            "898/898 [==============================] - 92s 103ms/step - loss: 1.8150 - accuracy: 0.2511 - val_loss: 1.8205 - val_accuracy: 0.2471 - lr: 0.0010\n",
            "Epoch 3/25\n",
            "898/898 [==============================] - 96s 106ms/step - loss: 1.8148 - accuracy: 0.2507 - val_loss: 1.8161 - val_accuracy: 0.2471 - lr: 0.0010\n",
            "Epoch 4/25\n",
            "898/898 [==============================] - 96s 107ms/step - loss: 1.8131 - accuracy: 0.2513 - val_loss: 1.8149 - val_accuracy: 0.2471 - lr: 0.0010\n",
            "Epoch 5/25\n",
            "898/898 [==============================] - 97s 108ms/step - loss: 1.8125 - accuracy: 0.2513 - val_loss: 1.8141 - val_accuracy: 0.2471 - lr: 0.0010\n",
            "Epoch 6/25\n",
            "898/898 [==============================] - 98s 109ms/step - loss: 1.8124 - accuracy: 0.2513 - val_loss: 1.8136 - val_accuracy: 0.2471 - lr: 0.0010\n",
            "Epoch 7/25\n",
            "898/898 [==============================] - 91s 102ms/step - loss: 1.8118 - accuracy: 0.2513 - val_loss: 1.8190 - val_accuracy: 0.2471 - lr: 0.0010\n",
            "Epoch 8/25\n",
            "898/898 [==============================] - ETA: 0s - loss: 1.8119 - accuracy: 0.2513\n",
            "Epoch 8: ReduceLROnPlateau reducing learning rate to 0.0005000000237487257.\n",
            "898/898 [==============================] - 91s 101ms/step - loss: 1.8119 - accuracy: 0.2513 - val_loss: 1.8153 - val_accuracy: 0.2471 - lr: 0.0010\n",
            "Epoch 9/25\n",
            "898/898 [==============================] - 92s 102ms/step - loss: 1.8106 - accuracy: 0.2513 - val_loss: 1.8132 - val_accuracy: 0.2471 - lr: 5.0000e-04\n",
            "Epoch 10/25\n",
            "898/898 [==============================] - 93s 103ms/step - loss: 1.8106 - accuracy: 0.2513 - val_loss: 1.8143 - val_accuracy: 0.2471 - lr: 5.0000e-04\n",
            "Epoch 11/25\n",
            "898/898 [==============================] - 93s 103ms/step - loss: 1.8105 - accuracy: 0.2513 - val_loss: 1.8135 - val_accuracy: 0.2471 - lr: 5.0000e-04\n",
            "Epoch 12/25\n",
            "898/898 [==============================] - 92s 102ms/step - loss: 1.8105 - accuracy: 0.2513 - val_loss: 1.8135 - val_accuracy: 0.2471 - lr: 5.0000e-04\n"
          ]
        }
      ]
    },
    {
      "cell_type": "code",
      "source": [
        "result=model.evaluate(val_data)"
      ],
      "metadata": {
        "id": "8FLwUoINnPld",
        "colab": {
          "base_uri": "https://localhost:8080/"
        },
        "outputId": "81e156ce-afde-48e1-aa2b-08f2235e3cc3"
      },
      "execution_count": null,
      "outputs": [
        {
          "output_type": "stream",
          "name": "stdout",
          "text": [
            "225/225 [==============================] - 4s 17ms/step - loss: 1.8135 - accuracy: 0.2471\n"
          ]
        }
      ]
    },
    {
      "cell_type": "markdown",
      "source": [
        "# plotting the loss curve"
      ],
      "metadata": {
        "id": "VIj-R8SPaCKb"
      }
    },
    {
      "cell_type": "code",
      "source": [
        "ck+ existing model\n",
        "fer2013 vg19"
      ],
      "metadata": {
        "id": "f04U9kyPwgWo"
      },
      "execution_count": null,
      "outputs": []
    },
    {
      "cell_type": "code",
      "source": [
        "plt.subplot(1,2,1)\n",
        "plt.title(\"accuracy vs val_accuracy\")\n",
        "plt.plot(history.history[\"accuracy\"])\n",
        "plt.plot(history.history[\"val_accuracy\"],color=\"green\")\n",
        "\n",
        "plt.subplot(1,2,2)\n",
        "plt.title(\"loss vs val_loss\")\n",
        "plt.plot(history.history[\"loss\"])\n",
        "plt.plot(history.history[\"val_loss\"],color=\"red\")\n",
        "\n",
        "plt.show();"
      ],
      "metadata": {
        "id": "YAw440NMawcu"
      },
      "execution_count": null,
      "outputs": []
    },
    {
      "cell_type": "code",
      "source": [],
      "metadata": {
        "id": "Mm_YBpptbrq-"
      },
      "execution_count": null,
      "outputs": []
    }
  ]
}